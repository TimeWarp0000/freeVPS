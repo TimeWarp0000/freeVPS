{
  "nbformat": 4,
  "nbformat_minor": 0,
  "metadata": {
    "colab": {
      "provenance": [],
      "authorship_tag": "ABX9TyMHtHejPuDxbRKTLW/FADBp",
      "include_colab_link": true
    },
    "kernelspec": {
      "name": "python3",
      "display_name": "Python 3"
    },
    "language_info": {
      "name": "python"
    }
  },
  "cells": [
    {
      "cell_type": "markdown",
      "metadata": {
        "id": "view-in-github",
        "colab_type": "text"
      },
      "source": [
        "<a href=\"https://colab.research.google.com/github/TimeWarp0000/freeVPS/blob/main/Copy_of_Python_password_Vault.ipynb\" target=\"_parent\"><img src=\"https://colab.research.google.com/assets/colab-badge.svg\" alt=\"Open In Colab\"/></a>"
      ]
    },
    {
      "cell_type": "markdown",
      "source": [
        "# New Section"
      ],
      "metadata": {
        "id": "8x-Nlhuy5El9"
      }
    },
    {
      "cell_type": "markdown",
      "source": [
        "# New Section"
      ],
      "metadata": {
        "id": "OPFLnmsv5S9l"
      }
    },
    {
      "cell_type": "code",
      "source": [
        "import sqlite3, hashlib\n",
        "from tkinter import *\n",
        "\n",
        "window = Tk()\n",
        "\n",
        "window.title(\"password vault\")\n",
        "\n",
        "def firstScreen():\n",
        "    window.geometry(\"250x150\")\n",
        "\n",
        "    lbl = Label(window, text=\"Create Master password\")\n",
        "    lbl.config(anchor=CENTER)\n",
        "    lbl.pack()\n",
        "\n",
        "    txt = Entry(window, width=20, show=\"*\")\n",
        "    txt.pack()\n",
        "    txt.focus()\n",
        "\n",
        "    lbl1 = Label(window, text=\"Re-enter Password\")\n",
        "    lbl1.pack()\n",
        "\n",
        "    txt1 = Entry(window, width=20, show=\"*\")\n",
        "    txt1.pack()\n",
        "    txt1.focus()\n",
        "\n",
        "    lbl2 = Label(window)\n",
        "    lbl2.pack()\n",
        "\n",
        "\n",
        "    def savePassword():\n",
        "        if txt.get() == txt1.get():\n",
        "            pass\n",
        "        else:\n",
        "            lbl2.config(text=\"Passwords do not match\")\n",
        "\n",
        "\n",
        "\n",
        "\n",
        "    btn = Button(window, text=\"Save\", command=savePassword)\n",
        "    btn.pack(pady=10)\n",
        "\n",
        "\n",
        "def loginScreen():\n",
        "    window.geometry(\"250x100\")\n",
        "\n",
        "    lbl = Label(window, text=\"Enter Master password\")\n",
        "    lbl.config(anchor=CENTER)\n",
        "    lbl.pack()\n",
        "\n",
        "    txt = Entry(window, width=20, show=\"*\")\n",
        "    txt.pack()\n",
        "    txt.focus()\n",
        "\n",
        "    lbl1 = Label(window)\n",
        "    lbl1.pack()\n",
        "\n",
        "    def checkPassword():\n",
        "        password = \"test\"\n",
        "\n",
        "        if password == txt.get():\n",
        "            passwordVault()\n",
        "        else:\n",
        "            txt.delete(0,\"end\")\n",
        "            lbl1.config(text=\"Wrong Password\")\n",
        "\n",
        "    btn = Button(window, text=\"Submit\", command=checkPassword)\n",
        "    btn.pack(pady=10)\n",
        "\n",
        "def passwordVault():\n",
        "    for widget in window.winfo_children():\n",
        "        widget.destroy()\n",
        "    window.geometry(\"700x350\")\n",
        "\n",
        "    lbl = Label(window, text=\"accessing Password vault\")\n",
        "    lbl.config(anchor=CENTER)\n",
        "    lbl.pack()\n",
        "\n",
        "\n",
        "\n",
        "\n",
        "firstScreen()\n",
        "window.mainloop()\n"
      ],
      "metadata": {
        "id": "t7ITxzSl5V83"
      },
      "execution_count": null,
      "outputs": []
    }
  ]
}